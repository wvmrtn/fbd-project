{
 "cells": [
  {
   "cell_type": "code",
   "execution_count": 1,
   "metadata": {},
   "outputs": [],
   "source": [
    "# import standard libraries\n",
    "import os\n",
    "from glob import glob\n",
    "import matplotlib.pyplot as plt\n",
    "import multiprocessing\n",
    "import numpy as np\n",
    "# third-party libraries\n",
    "import dask\n",
    "import dask.multiprocessing\n",
    "from dask.diagnostics import ProgressBar\n",
    "import pandas as pd\n",
    "from numba import jit\n",
    "from sklearn.linear_model import LinearRegression\n",
    "import seaborn as sns\n",
    "from tqdm.notebook import tqdm\n",
    "# local libraries\n",
    "from fbd import get_monthly_returns, ols_fast\n",
    "from fbd import START, END"
   ]
  },
  {
   "cell_type": "code",
   "execution_count": 2,
   "metadata": {},
   "outputs": [],
   "source": [
    "filenames = glob('data/returns/raw/*.parquet')\n",
    "dates_start = pd.date_range(START, END, freq='MS')\n",
    "dates_dt = dates_start.strftime(\"%Y-%m\")"
   ]
  },
  {
   "cell_type": "markdown",
   "metadata": {},
   "source": [
    "# Data"
   ]
  },
  {
   "cell_type": "markdown",
   "metadata": {},
   "source": [
    "## Fama-French"
   ]
  },
  {
   "cell_type": "code",
   "execution_count": 3,
   "metadata": {},
   "outputs": [],
   "source": [
    "fama = pd.read_csv('data/fama/fama.csv.gz', compression='gzip', index_col=0)"
   ]
  },
  {
   "cell_type": "code",
   "execution_count": 4,
   "metadata": {},
   "outputs": [],
   "source": [
    "# fama are in returns (%)\n",
    "fama = fama/100"
   ]
  },
  {
   "cell_type": "code",
   "execution_count": 5,
   "metadata": {},
   "outputs": [],
   "source": [
    "# separate fama and riskless rate\n",
    "rf = fama[['RF']]\n",
    "fama.drop(columns=['RF'], inplace=True)"
   ]
  },
  {
   "cell_type": "code",
   "execution_count": 6,
   "metadata": {},
   "outputs": [
    {
     "data": {
      "text/plain": [
       "Index(['Mkt-RF', 'SMB', 'HML'], dtype='object')"
      ]
     },
     "execution_count": 6,
     "metadata": {},
     "output_type": "execute_result"
    }
   ],
   "source": [
    "# get another set of factors\n",
    "fama = fama[['Mkt-RF', 'SMB', 'HML']]\n",
    "fama.columns"
   ]
  },
  {
   "cell_type": "code",
   "execution_count": 7,
   "metadata": {},
   "outputs": [
    {
     "data": {
      "text/plain": [
       "3"
      ]
     },
     "execution_count": 7,
     "metadata": {},
     "output_type": "execute_result"
    }
   ],
   "source": [
    "num_feat = fama.shape[1]\n",
    "num_feat"
   ]
  },
  {
   "cell_type": "markdown",
   "metadata": {},
   "source": [
    "## Constituents"
   ]
  },
  {
   "cell_type": "code",
   "execution_count": 8,
   "metadata": {},
   "outputs": [],
   "source": [
    "const_mat = pd.read_csv('data/russell3000.csv.gz', compression='gzip',\n",
    "                        index_col=0)"
   ]
  },
  {
   "cell_type": "markdown",
   "metadata": {},
   "source": [
    "# Compute loadings"
   ]
  },
  {
   "cell_type": "code",
   "execution_count": 9,
   "metadata": {},
   "outputs": [],
   "source": [
    "dates = pd.date_range(START, END, freq='M')\n",
    "dates = dates.strftime(\"%Y-%m-%d\")"
   ]
  },
  {
   "cell_type": "code",
   "execution_count": 10,
   "metadata": {},
   "outputs": [],
   "source": [
    "def write_monthly_loadings(date, di, const_mat, fama, rf):\n",
    "    date_b = date[:7]\n",
    "    date_a = dates[di-1][:7]\n",
    "    d_ret = get_monthly_returns(date_b, const_mat, months=2)\n",
    "\n",
    "    # filter fama factors to dates of returns\n",
    "    d_fama = fama.loc[d_ret.index]\n",
    "    d_rf = rf.loc[d_ret.index]\n",
    "\n",
    "    # compute excess returns\n",
    "    d_exret = np.subtract(d_ret, d_rf)\n",
    "\n",
    "    # get number of rows of previous month as window size\n",
    "    w = d_ret.index.str.startswith(date_a).sum()\n",
    "\n",
    "    # roll the window\n",
    "    d_days_index = range(w, d_ret.shape[0])\n",
    "    d_days = d_exret.index[d_days_index].values\n",
    "\n",
    "    for ti, t in enumerate(d_days_index):\n",
    "        # get metrics at t\n",
    "        d_t_days = d_days[ti]\n",
    "        \n",
    "        filename = f'data/loadings/{num_feat}_factor/{d_t_days}.parquet'\n",
    "        if not os.path.exists(filename):\n",
    "            d_t_exret = d_ret.iloc[t-w:t, :]\n",
    "            d_t_fama = d_fama.iloc[t-w:t, :]\n",
    "            # perform fast OLS on each columns\n",
    "            d_t_loadings = [ols_fast(d_t_fama, d_t_exret.loc[:, p], p) for p in d_t_exret]\n",
    "\n",
    "            # concatenate loadings\n",
    "            d_t_loadings = pd.concat(d_t_loadings, axis=1)\n",
    "                        \n",
    "            d_t_loadings.index = d_t_loadings.index.astype(str)\n",
    "\n",
    "            # save loadings to parquet\n",
    "            d_t_loadings.to_parquet(filename)"
   ]
  },
  {
   "cell_type": "code",
   "execution_count": 11,
   "metadata": {},
   "outputs": [
    {
     "data": {
      "text/plain": [
       "<dask.config.set at 0x7f891ae15c40>"
      ]
     },
     "execution_count": 11,
     "metadata": {},
     "output_type": "execute_result"
    }
   ],
   "source": [
    "# default setting for Dask\n",
    "dask.config.set(scheduler='processes')"
   ]
  },
  {
   "cell_type": "code",
   "execution_count": 12,
   "metadata": {},
   "outputs": [
    {
     "name": "stdout",
     "output_type": "stream",
     "text": [
      "[########################################] | 100% Completed | 19min 55.1s\n",
      "CPU times: user 8.56 s, sys: 1.47 s, total: 10 s\n",
      "Wall time: 19min 55s\n"
     ]
    }
   ],
   "source": [
    "%%time\n",
    "with ProgressBar(): \n",
    "    promises = []\n",
    "    for di, date in enumerate(dates):\n",
    "        # skip first month\n",
    "        if di == 0:\n",
    "            continue\n",
    "\n",
    "        promises.append(dask.delayed(write_monthly_loadings)(date, di, const_mat, fama, rf))\n",
    "\n",
    "    dask.compute(promises)[0]"
   ]
  },
  {
   "cell_type": "code",
   "execution_count": null,
   "metadata": {},
   "outputs": [],
   "source": []
  }
 ],
 "metadata": {
  "kernelspec": {
   "display_name": "Python 3",
   "language": "python",
   "name": "python3"
  },
  "language_info": {
   "codemirror_mode": {
    "name": "ipython",
    "version": 3
   },
   "file_extension": ".py",
   "mimetype": "text/x-python",
   "name": "python",
   "nbconvert_exporter": "python",
   "pygments_lexer": "ipython3",
   "version": "3.8.5"
  }
 },
 "nbformat": 4,
 "nbformat_minor": 4
}
