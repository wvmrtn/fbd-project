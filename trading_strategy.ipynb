{
 "cells": [
  {
   "cell_type": "code",
   "execution_count": 1,
   "metadata": {},
   "outputs": [],
   "source": [
    "# import standard libraries\n",
    "from  dateutil import relativedelta\n",
    "import math\n",
    "import regex as re\n",
    "from glob import glob\n",
    "import numpy as np\n",
    "import random\n",
    "# third-party libraries\n",
    "import dask\n",
    "from dask.diagnostics import ProgressBar\n",
    "import matplotlib.pyplot as plt\n",
    "import pandas as pd\n",
    "import seaborn as sns\n",
    "from tqdm import tqdm\n",
    "# local libraries\n",
    "from fbd import read_parquet, get_monthly_returns"
   ]
  },
  {
   "cell_type": "code",
   "execution_count": 2,
   "metadata": {},
   "outputs": [],
   "source": [
    "# get reproducible results\n",
    "random.seed(0)\n",
    "np.random.seed(0)"
   ]
  },
  {
   "cell_type": "markdown",
   "metadata": {},
   "source": [
    "# Settings"
   ]
  },
  {
   "cell_type": "code",
   "execution_count": 3,
   "metadata": {},
   "outputs": [],
   "source": [
    "# choose cluster method\n",
    "cluster_method = ['kmeans', 'agglomerative_ward', \n",
    "                  'meanshift', 'spectral'][3]"
   ]
  },
  {
   "cell_type": "code",
   "execution_count": 4,
   "metadata": {},
   "outputs": [],
   "source": [
    "# choose factor model\n",
    "num_feat = 8"
   ]
  },
  {
   "cell_type": "code",
   "execution_count": 5,
   "metadata": {},
   "outputs": [],
   "source": [
    "# transaction costs\n",
    "cost = 0 #0.3/10000 # in basis points"
   ]
  },
  {
   "cell_type": "markdown",
   "metadata": {},
   "source": [
    "# Data "
   ]
  },
  {
   "cell_type": "code",
   "execution_count": 6,
   "metadata": {},
   "outputs": [],
   "source": [
    "# get constituents\n",
    "const_mat = pd.read_csv('data/russell3000.csv.gz', compression='gzip',\n",
    "                        index_col=0)"
   ]
  },
  {
   "cell_type": "code",
   "execution_count": 7,
   "metadata": {},
   "outputs": [],
   "source": [
    "# get clusters\n",
    "info_labels = read_parquet(f'data/clustering/{num_feat}_factor/{cluster_method}.parquet')"
   ]
  },
  {
   "cell_type": "code",
   "execution_count": 8,
   "metadata": {},
   "outputs": [],
   "source": [
    "info = info_labels[['comnam', 'naics', 'ticker', 'sector']]\n",
    "labels = info_labels.drop(columns=info.columns)"
   ]
  },
  {
   "cell_type": "code",
   "execution_count": 9,
   "metadata": {},
   "outputs": [],
   "source": [
    "# get fama\n",
    "fama = pd.read_csv('data/fama/fama.csv.gz', compression='gzip', index_col=0)/100\n",
    "fama = fama[fama.index.isin(labels.columns.values)]"
   ]
  },
  {
   "cell_type": "markdown",
   "metadata": {},
   "source": [
    "# Trading strategy"
   ]
  },
  {
   "cell_type": "code",
   "execution_count": 10,
   "metadata": {
    "scrolled": true
   },
   "outputs": [
    {
     "name": "stderr",
     "output_type": "stream",
     "text": [
      "100%|██████████| 2497/2497 [00:59<00:00, 42.04it/s]"
     ]
    },
    {
     "name": "stdout",
     "output_type": "stream",
     "text": [
      "CPU times: user 1min 14s, sys: 7.49 s, total: 1min 22s\n",
      "Wall time: 59.4 s\n"
     ]
    },
    {
     "name": "stderr",
     "output_type": "stream",
     "text": [
      "\n"
     ]
    }
   ],
   "source": [
    "%%time\n",
    "# intial returns of portfolios daily\n",
    "results = pd.DataFrame(index=labels.columns.values, \n",
    "                       columns=['best cluster', 'worse cluster', 'Russell 3000', 'random strategy']\n",
    "                      )\n",
    "\n",
    "# intialization\n",
    "month_ret = ''\n",
    "returns = pd.DataFrame()\n",
    "i = 0\n",
    "long_securities_prev = set()\n",
    "short_securities_prev = set()\n",
    "for t in tqdm(labels.columns.values):\n",
    "    # read two month returns at a time only when necessary\n",
    "    month_t = t[:7]\n",
    "    if month_ret != month_t:\n",
    "        returns = get_monthly_returns(month_t, const_mat, months=2)\n",
    "        month_ret = month_t\n",
    "        # get window size\n",
    "        #month_t_1 = (pd.to_datetime(month_t) - relativedelta.relativedelta(months=1)).strftime('%Y-%m')\n",
    "        #w = returns.index.str.startswith(month_t_1).sum()\n",
    "    \n",
    "    # get equally-weighted returns of each cluster at time t-1\n",
    "    # the returns of portfolios at t-1 will be a signal for the \n",
    "    # long portfolio to choose at time t\n",
    "    clusters = labels[t].dropna()\n",
    "    clusters_ewr = pd.Series(index=clusters.unique(), data=clusters.unique())\n",
    "    # get index t-1 and t-w\n",
    "    t_1 = returns.index[np.where(returns.index==t)[0]-1][0]\n",
    "    #t_w = returns.index[np.where(returns.index==t)[0]-w][0]\n",
    "    #clusters_ewr = clusters_ewr.apply(lambda x: returns.loc[t_w:t_1, clusters[clusters==x].index.values].mean().mean())\n",
    "    clusters_ewr = clusters_ewr.apply(lambda x: returns.loc[t_1, clusters[clusters==x].index.values].mean())\n",
    "    \n",
    "    # determine cluster to long\n",
    "    long_c = clusters_ewr.idxmax()\n",
    "    short_c = clusters_ewr.idxmin()\n",
    "    \n",
    "    # get equally-weighted returns of long cluster at time t\n",
    "    # allocate 100% of capital in portfolio\n",
    "    long_securities = clusters[clusters==long_c].index.values\n",
    "    long_ret = returns.loc[t, long_securities].mean()\n",
    "    \n",
    "    short_securities = clusters[clusters==short_c].index.values\n",
    "    short_ret = returns.loc[t, short_securities].mean()\n",
    "    \n",
    "    # sometimes, not enough elements in a cluster to form a return\n",
    "    while math.isnan(long_ret):\n",
    "        clusters_ewr.drop(long_c, inplace=True)\n",
    "        long_c = clusters_ewr.idxmax()\n",
    "        long_securities = clusters[clusters==long_c].index.values\n",
    "        long_ret = returns.loc[t, long_securities].mean()\n",
    "        \n",
    "    while math.isnan(short_ret):\n",
    "        clusters_ewr.drop(short_c, inplace=True)\n",
    "        short_c = clusters_ewr.idxmin()\n",
    "        short_securities = clusters[clusters==short_c].index.values\n",
    "        short_ret = returns.loc[t, short_securities].mean()\n",
    "        \n",
    "    # make a random Russell 3000, select x random securities from index, where x is number of securities in\n",
    "    # cluster to long\n",
    "    len_c = len(clusters[clusters==long_c])\n",
    "    random_ret = returns.loc[t].dropna()\n",
    "    random_ret = random_ret.sample(len_c).mean()\n",
    "    \n",
    "    # general Russell 3000 ret\n",
    "    russell_ret = returns.loc[t].mean()\n",
    "    \n",
    "    #if math.isnan(long_ret) or math.isnan(russell_ret):\n",
    "    #    break\n",
    "    \n",
    "    # compute costs of strategy\n",
    "    # a trade is considered either a buy or sell.\n",
    "    long_buy_cost = len(set(long_securities) - long_securities_prev)*cost\n",
    "    long_sell_cost = len(long_securities_prev - set(long_securities))*cost\n",
    "    long_securities_prev = set(long_securities)\n",
    "    \n",
    "    short_buy_cost = len(set(short_securities) - short_securities_prev)*cost\n",
    "    short_sell_cost = len(short_securities_prev - set(short_securities))*cost\n",
    "    short_securities_prev = set(short_securities)\n",
    "    \n",
    "    results.at[t, 'best cluster'] = long_ret - (long_buy_cost + long_sell_cost)\n",
    "    results.at[t, 'worse cluster'] = short_ret - (short_buy_cost + short_sell_cost)\n",
    "    results.at[t, 'Russell 3000'] = russell_ret\n",
    "    results.at[t, 'random strategy'] = random_ret"
   ]
  },
  {
   "cell_type": "code",
   "execution_count": 11,
   "metadata": {},
   "outputs": [],
   "source": [
    "#add market to dataframe of capital\n",
    "results['market'] = fama['Mkt-RF'] + fama['RF']"
   ]
  },
  {
   "cell_type": "code",
   "execution_count": 12,
   "metadata": {},
   "outputs": [],
   "source": [
    "# save results\n",
    "filename = f'data/strategy/{num_feat}_factor/{cluster_method}_{int(math.ceil(cost*1e6))}.gz'\n",
    "results.to_csv(filename ,compression='gzip')"
   ]
  },
  {
   "cell_type": "code",
   "execution_count": 13,
   "metadata": {},
   "outputs": [],
   "source": [
    "# do cumulative returns from a capital of 1$\n",
    "capital = results + 1\n",
    "# add bogus date with 1 at the beginnninng\n",
    "capital = pd.concat([pd.DataFrame(columns=capital.columns, index=['2010-01-31'], data=1), capital], \n",
    "                    axis=0, \n",
    "                    ignore_index=False)\n",
    "capital = capital.cumprod()"
   ]
  },
  {
   "cell_type": "code",
   "execution_count": 14,
   "metadata": {},
   "outputs": [
    {
     "data": {
      "image/png": "[encoded data removed]",
      "text/plain": [
       "<Figure size 576x360 with 1 Axes>"
      ]
     },
     "metadata": {
      "needs_background": "light"
     },
     "output_type": "display_data"
    }
   ],
   "source": [
    "fig, ax = plt.subplots(figsize=(8, 5))\n",
    "capital.plot(ax=ax)\n",
    "ax.set_yscale('log')"
   ]
  },
  {
   "cell_type": "code",
   "execution_count": null,
   "metadata": {},
   "outputs": [],
   "source": []
  }
 ],
 "metadata": {
  "kernelspec": {
   "display_name": "Python 3",
   "language": "python",
   "name": "python3"
  },
  "language_info": {
   "codemirror_mode": {
    "name": "ipython",
    "version": 3
   },
   "file_extension": ".py",
   "mimetype": "text/x-python",
   "name": "python",
   "nbconvert_exporter": "python",
   "pygments_lexer": "ipython3",
   "version": "3.8.5"
  }
 },
 "nbformat": 4,
 "nbformat_minor": 4
}
