{
 "cells": [
  {
   "cell_type": "code",
   "execution_count": 18,
   "metadata": {},
   "outputs": [],
   "source": [
    "# import standard libraries\n",
    "import regex as re\n",
    "from glob import glob\n",
    "import numpy as np\n",
    "# third-party libraries\n",
    "import dask\n",
    "import dask.dataframe as dd\n",
    "import dask.multiprocessing\n",
    "from dask.diagnostics import ProgressBar\n",
    "import matplotlib.pyplot as plt\n",
    "import pandas as pd\n",
    "import seaborn as sns\n",
    "from sklearn.cluster import AgglomerativeClustering\n",
    "# local libraries\n",
    "from fbd import read_parquet, plot_dendrogram"
   ]
  },
  {
   "cell_type": "markdown",
   "metadata": {},
   "source": [
    "# Data"
   ]
  },
  {
   "cell_type": "code",
   "execution_count": 5,
   "metadata": {},
   "outputs": [],
   "source": [
    "filenames = glob('data/loadings/*.parquet')"
   ]
  },
  {
   "cell_type": "code",
   "execution_count": 6,
   "metadata": {},
   "outputs": [
    {
     "data": {
      "text/plain": [
       "2497"
      ]
     },
     "execution_count": 6,
     "metadata": {},
     "output_type": "execute_result"
    }
   ],
   "source": [
    "len(filenames)"
   ]
  },
  {
   "cell_type": "code",
   "execution_count": 7,
   "metadata": {},
   "outputs": [],
   "source": [
    "dates = [re.findall(r'\\d{4}-\\d{2}-\\d{2}', f)[0] for f in filenames]\n",
    "dates_dt = pd.to_datetime(dates).sort_values()\n",
    "dates_str = dates_dt.strftime('%Y-%m-%d')"
   ]
  },
  {
   "cell_type": "code",
   "execution_count": 8,
   "metadata": {},
   "outputs": [],
   "source": [
    "# get filenames again in correct order\n",
    "filenames = [glob(f'data/loadings/{d}.parquet')[0] for d in dates_str]"
   ]
  },
  {
   "cell_type": "code",
   "execution_count": 9,
   "metadata": {},
   "outputs": [],
   "source": [
    "const_mat = pd.read_csv('data/russell3000.csv.gz', compression='gzip',\n",
    "                        index_col=0)"
   ]
  },
  {
   "cell_type": "code",
   "execution_count": 10,
   "metadata": {},
   "outputs": [],
   "source": [
    "permnos = const_mat.columns.values"
   ]
  },
  {
   "cell_type": "markdown",
   "metadata": {},
   "source": [
    "## Clean company information"
   ]
  },
  {
   "cell_type": "code",
   "execution_count": 11,
   "metadata": {},
   "outputs": [],
   "source": [
    "info = pd.read_csv('data/permno_info.csv.gz', compression='gzip',\n",
    "                   index_col=0)\n",
    "\n",
    "info['permno'] = info['permno'].astype(int).astype(str)\n",
    "# get rid of nan in naics\n",
    "info.dropna(how='any', subset=['naics'], inplace=True)\n",
    "# remove duplicate rows from info\n",
    "info.drop_duplicates(subset=['permno'], inplace=True, keep='last', ignore_index=True)\n",
    "\n",
    "# get sector from naics\n",
    "info['naics'] = info['naics'].astype(int).astype(str)\n",
    "info['sector'] = info['naics'].str[:2]\n",
    "info[['naics', 'sector']] = info[['naics', 'sector']].astype(int)\n",
    "\n",
    "# we won't be needing siccd actually\n",
    "info.drop(columns=['siccd'], inplace=True)\n",
    "\n",
    "# set permno to index\n",
    "info.set_index('permno', inplace=True)"
   ]
  },
  {
   "cell_type": "code",
   "execution_count": 12,
   "metadata": {},
   "outputs": [
    {
     "data": {
      "text/plain": [
       "comnam     0\n",
       "naics      0\n",
       "ticker    12\n",
       "sector     0\n",
       "dtype: int64"
      ]
     },
     "execution_count": 12,
     "metadata": {},
     "output_type": "execute_result"
    }
   ],
   "source": [
    "info.isna().sum()"
   ]
  },
  {
   "cell_type": "code",
   "execution_count": 13,
   "metadata": {},
   "outputs": [
    {
     "data": {
      "text/plain": [
       "['92615',\n",
       " '14065',\n",
       " '17782',\n",
       " '19148',\n",
       " '18363',\n",
       " '15044',\n",
       " '15120',\n",
       " '14712',\n",
       " '18579',\n",
       " '18151',\n",
       " '16877',\n",
       " '14669',\n",
       " '14271',\n",
       " '15829',\n",
       " '14247',\n",
       " '18807',\n",
       " '14789',\n",
       " '19084',\n",
       " '13250',\n",
       " '14643',\n",
       " '92494',\n",
       " '91638']"
      ]
     },
     "execution_count": 13,
     "metadata": {},
     "output_type": "execute_result"
    }
   ],
   "source": [
    "# missing info securities\n",
    "missing_permnos = list(set(permnos) - set(info.index.values))\n",
    "missing_permnos"
   ]
  },
  {
   "cell_type": "markdown",
   "metadata": {},
   "source": [
    "# Clustering"
   ]
  },
  {
   "cell_type": "code",
   "execution_count": 14,
   "metadata": {},
   "outputs": [
    {
     "data": {
      "text/plain": [
       "24"
      ]
     },
     "execution_count": 14,
     "metadata": {},
     "output_type": "execute_result"
    }
   ],
   "source": [
    "num_sectors = len(info['sector'].unique())\n",
    "num_sectors"
   ]
  },
  {
   "cell_type": "code",
   "execution_count": 22,
   "metadata": {},
   "outputs": [],
   "source": [
    "def compute_clusters(i):\n",
    "    f = filenames[i]\n",
    "    t = dates_str[i]\n",
    "    loadings = read_parquet(f)\n",
    "    loadings.dropna(how='all', axis=1, inplace=True)\n",
    "    # get permnos as observations to cluster\n",
    "    loadings_t = loadings.T\n",
    "    # perform agglomerative clustering using ward linkage\n",
    "    ac = AgglomerativeClustering(n_clusters=num_sectors, linkage='ward')\n",
    "    ac = ac.fit(loadings_t)\n",
    "    labels = pd.DataFrame(columns=[t], index=loadings_t.index, data=ac.labels_)\n",
    "    # filter loadings according to index in info (get rid of permnos that are in loadings and not in info)\n",
    "    labels = labels[labels.index.isin(info.index)]\n",
    "    return labels"
   ]
  },
  {
   "cell_type": "code",
   "execution_count": 23,
   "metadata": {},
   "outputs": [
    {
     "data": {
      "text/plain": [
       "<dask.config.set at 0x7f56fcd93250>"
      ]
     },
     "execution_count": 23,
     "metadata": {},
     "output_type": "execute_result"
    }
   ],
   "source": [
    "# default setting for Dask\n",
    "dask.config.set(scheduler='processes')"
   ]
  },
  {
   "cell_type": "code",
   "execution_count": 24,
   "metadata": {},
   "outputs": [
    {
     "name": "stdout",
     "output_type": "stream",
     "text": [
      "[########################################] | 100% Completed |  2min 35.2s\n",
      "CPU times: user 24.7 s, sys: 2.27 s, total: 26.9 s\n",
      "Wall time: 2min 35s\n"
     ]
    }
   ],
   "source": [
    "%%time\n",
    "with ProgressBar():\n",
    "    promises = [dask.delayed(compute_clusters)(i) for i, _ in enumerate(filenames)]\n",
    "    all_labels = dask.compute(promises)[0]"
   ]
  },
  {
   "cell_type": "code",
   "execution_count": 29,
   "metadata": {},
   "outputs": [],
   "source": [
    "info_labels = pd.concat([info] + all_labels, axis=1, ignore_index=False)"
   ]
  },
  {
   "cell_type": "code",
   "execution_count": 30,
   "metadata": {},
   "outputs": [],
   "source": [
    "# save to parquet\n",
    "info_labels.columns = info_labels.columns.astype(str)\n",
    "info_labels.index = info_labels.index.astype(str)\n",
    "info_labels.to_parquet('data/clustering/agglomerative_ward.parquet')"
   ]
  },
  {
   "cell_type": "code",
   "execution_count": 35,
   "metadata": {},
   "outputs": [
    {
     "data": {
      "text/html": [
       "<div>\n",
       "<style scoped>\n",
       "    .dataframe tbody tr th:only-of-type {\n",
       "        vertical-align: middle;\n",
       "    }\n",
       "\n",
       "    .dataframe tbody tr th {\n",
       "        vertical-align: top;\n",
       "    }\n",
       "\n",
       "    .dataframe thead th {\n",
       "        text-align: right;\n",
       "    }\n",
       "</style>\n",
       "<table border=\"1\" class=\"dataframe\">\n",
       "  <thead>\n",
       "    <tr style=\"text-align: right;\">\n",
       "      <th></th>\n",
       "      <th>comnam</th>\n",
       "      <th>naics</th>\n",
       "      <th>ticker</th>\n",
       "      <th>sector</th>\n",
       "      <th>2010-02-01</th>\n",
       "      <th>2010-02-02</th>\n",
       "      <th>2010-02-03</th>\n",
       "      <th>2010-02-04</th>\n",
       "      <th>2010-02-05</th>\n",
       "      <th>2010-02-08</th>\n",
       "      <th>...</th>\n",
       "      <th>2019-12-17</th>\n",
       "      <th>2019-12-18</th>\n",
       "      <th>2019-12-19</th>\n",
       "      <th>2019-12-20</th>\n",
       "      <th>2019-12-23</th>\n",
       "      <th>2019-12-24</th>\n",
       "      <th>2019-12-26</th>\n",
       "      <th>2019-12-27</th>\n",
       "      <th>2019-12-30</th>\n",
       "      <th>2019-12-31</th>\n",
       "    </tr>\n",
       "  </thead>\n",
       "  <tbody>\n",
       "    <tr>\n",
       "      <th>10026</th>\n",
       "      <td>J &amp; J SNACK FOODS CORP</td>\n",
       "      <td>311813</td>\n",
       "      <td>JJSF</td>\n",
       "      <td>31</td>\n",
       "      <td>18.0</td>\n",
       "      <td>13.0</td>\n",
       "      <td>6.0</td>\n",
       "      <td>19.0</td>\n",
       "      <td>11.0</td>\n",
       "      <td>20.0</td>\n",
       "      <td>...</td>\n",
       "      <td>20.0</td>\n",
       "      <td>0.0</td>\n",
       "      <td>5.0</td>\n",
       "      <td>9.0</td>\n",
       "      <td>18.0</td>\n",
       "      <td>8.0</td>\n",
       "      <td>1.0</td>\n",
       "      <td>21.0</td>\n",
       "      <td>13.0</td>\n",
       "      <td>9.0</td>\n",
       "    </tr>\n",
       "    <tr>\n",
       "      <th>10032</th>\n",
       "      <td>PLEXUS CORP</td>\n",
       "      <td>334418</td>\n",
       "      <td>PLXS</td>\n",
       "      <td>33</td>\n",
       "      <td>15.0</td>\n",
       "      <td>23.0</td>\n",
       "      <td>3.0</td>\n",
       "      <td>0.0</td>\n",
       "      <td>20.0</td>\n",
       "      <td>8.0</td>\n",
       "      <td>...</td>\n",
       "      <td>0.0</td>\n",
       "      <td>0.0</td>\n",
       "      <td>5.0</td>\n",
       "      <td>6.0</td>\n",
       "      <td>6.0</td>\n",
       "      <td>2.0</td>\n",
       "      <td>3.0</td>\n",
       "      <td>18.0</td>\n",
       "      <td>16.0</td>\n",
       "      <td>3.0</td>\n",
       "    </tr>\n",
       "    <tr>\n",
       "      <th>10051</th>\n",
       "      <td>HANGER INC</td>\n",
       "      <td>339113</td>\n",
       "      <td>HNGR</td>\n",
       "      <td>33</td>\n",
       "      <td>16.0</td>\n",
       "      <td>1.0</td>\n",
       "      <td>11.0</td>\n",
       "      <td>4.0</td>\n",
       "      <td>17.0</td>\n",
       "      <td>0.0</td>\n",
       "      <td>...</td>\n",
       "      <td>18.0</td>\n",
       "      <td>4.0</td>\n",
       "      <td>22.0</td>\n",
       "      <td>2.0</td>\n",
       "      <td>11.0</td>\n",
       "      <td>0.0</td>\n",
       "      <td>6.0</td>\n",
       "      <td>21.0</td>\n",
       "      <td>13.0</td>\n",
       "      <td>3.0</td>\n",
       "    </tr>\n",
       "    <tr>\n",
       "      <th>10065</th>\n",
       "      <td>ADAMS EXPRESS CO</td>\n",
       "      <td>525910</td>\n",
       "      <td>ADX</td>\n",
       "      <td>52</td>\n",
       "      <td>3.0</td>\n",
       "      <td>17.0</td>\n",
       "      <td>22.0</td>\n",
       "      <td>9.0</td>\n",
       "      <td>7.0</td>\n",
       "      <td>8.0</td>\n",
       "      <td>...</td>\n",
       "      <td>18.0</td>\n",
       "      <td>2.0</td>\n",
       "      <td>11.0</td>\n",
       "      <td>3.0</td>\n",
       "      <td>2.0</td>\n",
       "      <td>22.0</td>\n",
       "      <td>1.0</td>\n",
       "      <td>18.0</td>\n",
       "      <td>8.0</td>\n",
       "      <td>3.0</td>\n",
       "    </tr>\n",
       "    <tr>\n",
       "      <th>10104</th>\n",
       "      <td>ORACLE CORP</td>\n",
       "      <td>511210</td>\n",
       "      <td>ORCL</td>\n",
       "      <td>51</td>\n",
       "      <td>3.0</td>\n",
       "      <td>3.0</td>\n",
       "      <td>22.0</td>\n",
       "      <td>9.0</td>\n",
       "      <td>10.0</td>\n",
       "      <td>14.0</td>\n",
       "      <td>...</td>\n",
       "      <td>18.0</td>\n",
       "      <td>4.0</td>\n",
       "      <td>5.0</td>\n",
       "      <td>5.0</td>\n",
       "      <td>18.0</td>\n",
       "      <td>8.0</td>\n",
       "      <td>1.0</td>\n",
       "      <td>18.0</td>\n",
       "      <td>10.0</td>\n",
       "      <td>9.0</td>\n",
       "    </tr>\n",
       "    <tr>\n",
       "      <th>...</th>\n",
       "      <td>...</td>\n",
       "      <td>...</td>\n",
       "      <td>...</td>\n",
       "      <td>...</td>\n",
       "      <td>...</td>\n",
       "      <td>...</td>\n",
       "      <td>...</td>\n",
       "      <td>...</td>\n",
       "      <td>...</td>\n",
       "      <td>...</td>\n",
       "      <td>...</td>\n",
       "      <td>...</td>\n",
       "      <td>...</td>\n",
       "      <td>...</td>\n",
       "      <td>...</td>\n",
       "      <td>...</td>\n",
       "      <td>...</td>\n",
       "      <td>...</td>\n",
       "      <td>...</td>\n",
       "      <td>...</td>\n",
       "      <td>...</td>\n",
       "    </tr>\n",
       "    <tr>\n",
       "      <th>93428</th>\n",
       "      <td>BROADSOFT INC</td>\n",
       "      <td>511210</td>\n",
       "      <td>BSFT</td>\n",
       "      <td>51</td>\n",
       "      <td>NaN</td>\n",
       "      <td>NaN</td>\n",
       "      <td>NaN</td>\n",
       "      <td>NaN</td>\n",
       "      <td>NaN</td>\n",
       "      <td>NaN</td>\n",
       "      <td>...</td>\n",
       "      <td>NaN</td>\n",
       "      <td>NaN</td>\n",
       "      <td>NaN</td>\n",
       "      <td>NaN</td>\n",
       "      <td>NaN</td>\n",
       "      <td>NaN</td>\n",
       "      <td>NaN</td>\n",
       "      <td>NaN</td>\n",
       "      <td>NaN</td>\n",
       "      <td>NaN</td>\n",
       "    </tr>\n",
       "    <tr>\n",
       "      <th>93429</th>\n",
       "      <td>C B O E GLOBAL MARKETS INC</td>\n",
       "      <td>523210</td>\n",
       "      <td>CBOE</td>\n",
       "      <td>52</td>\n",
       "      <td>NaN</td>\n",
       "      <td>NaN</td>\n",
       "      <td>NaN</td>\n",
       "      <td>NaN</td>\n",
       "      <td>NaN</td>\n",
       "      <td>NaN</td>\n",
       "      <td>...</td>\n",
       "      <td>0.0</td>\n",
       "      <td>7.0</td>\n",
       "      <td>5.0</td>\n",
       "      <td>6.0</td>\n",
       "      <td>13.0</td>\n",
       "      <td>8.0</td>\n",
       "      <td>8.0</td>\n",
       "      <td>18.0</td>\n",
       "      <td>8.0</td>\n",
       "      <td>3.0</td>\n",
       "    </tr>\n",
       "    <tr>\n",
       "      <th>93431</th>\n",
       "      <td>PACTERA TECHNOLOGY INTL LTD</td>\n",
       "      <td>541512</td>\n",
       "      <td>PACT</td>\n",
       "      <td>54</td>\n",
       "      <td>NaN</td>\n",
       "      <td>NaN</td>\n",
       "      <td>NaN</td>\n",
       "      <td>NaN</td>\n",
       "      <td>NaN</td>\n",
       "      <td>NaN</td>\n",
       "      <td>...</td>\n",
       "      <td>NaN</td>\n",
       "      <td>NaN</td>\n",
       "      <td>NaN</td>\n",
       "      <td>NaN</td>\n",
       "      <td>NaN</td>\n",
       "      <td>NaN</td>\n",
       "      <td>NaN</td>\n",
       "      <td>NaN</td>\n",
       "      <td>NaN</td>\n",
       "      <td>NaN</td>\n",
       "    </tr>\n",
       "    <tr>\n",
       "      <th>93433</th>\n",
       "      <td>VOLTARI CORP</td>\n",
       "      <td>511210</td>\n",
       "      <td>VLTC</td>\n",
       "      <td>51</td>\n",
       "      <td>NaN</td>\n",
       "      <td>NaN</td>\n",
       "      <td>NaN</td>\n",
       "      <td>NaN</td>\n",
       "      <td>NaN</td>\n",
       "      <td>NaN</td>\n",
       "      <td>...</td>\n",
       "      <td>NaN</td>\n",
       "      <td>NaN</td>\n",
       "      <td>NaN</td>\n",
       "      <td>NaN</td>\n",
       "      <td>NaN</td>\n",
       "      <td>NaN</td>\n",
       "      <td>NaN</td>\n",
       "      <td>NaN</td>\n",
       "      <td>NaN</td>\n",
       "      <td>NaN</td>\n",
       "    </tr>\n",
       "    <tr>\n",
       "      <th>93436</th>\n",
       "      <td>TESLA INC</td>\n",
       "      <td>336111</td>\n",
       "      <td>TSLA</td>\n",
       "      <td>33</td>\n",
       "      <td>NaN</td>\n",
       "      <td>NaN</td>\n",
       "      <td>NaN</td>\n",
       "      <td>NaN</td>\n",
       "      <td>NaN</td>\n",
       "      <td>NaN</td>\n",
       "      <td>...</td>\n",
       "      <td>20.0</td>\n",
       "      <td>9.0</td>\n",
       "      <td>4.0</td>\n",
       "      <td>11.0</td>\n",
       "      <td>7.0</td>\n",
       "      <td>8.0</td>\n",
       "      <td>8.0</td>\n",
       "      <td>7.0</td>\n",
       "      <td>16.0</td>\n",
       "      <td>3.0</td>\n",
       "    </tr>\n",
       "  </tbody>\n",
       "</table>\n",
       "<p>5721 rows × 2501 columns</p>\n",
       "</div>"
      ],
      "text/plain": [
       "                            comnam   naics ticker  sector  2010-02-01  \\\n",
       "10026       J & J SNACK FOODS CORP  311813   JJSF      31        18.0   \n",
       "10032                  PLEXUS CORP  334418   PLXS      33        15.0   \n",
       "10051                   HANGER INC  339113   HNGR      33        16.0   \n",
       "10065             ADAMS EXPRESS CO  525910    ADX      52         3.0   \n",
       "10104                  ORACLE CORP  511210   ORCL      51         3.0   \n",
       "...                            ...     ...    ...     ...         ...   \n",
       "93428                BROADSOFT INC  511210   BSFT      51         NaN   \n",
       "93429   C B O E GLOBAL MARKETS INC  523210   CBOE      52         NaN   \n",
       "93431  PACTERA TECHNOLOGY INTL LTD  541512   PACT      54         NaN   \n",
       "93433                 VOLTARI CORP  511210   VLTC      51         NaN   \n",
       "93436                    TESLA INC  336111   TSLA      33         NaN   \n",
       "\n",
       "       2010-02-02  2010-02-03  2010-02-04  2010-02-05  2010-02-08  ...  \\\n",
       "10026        13.0         6.0        19.0        11.0        20.0  ...   \n",
       "10032        23.0         3.0         0.0        20.0         8.0  ...   \n",
       "10051         1.0        11.0         4.0        17.0         0.0  ...   \n",
       "10065        17.0        22.0         9.0         7.0         8.0  ...   \n",
       "10104         3.0        22.0         9.0        10.0        14.0  ...   \n",
       "...           ...         ...         ...         ...         ...  ...   \n",
       "93428         NaN         NaN         NaN         NaN         NaN  ...   \n",
       "93429         NaN         NaN         NaN         NaN         NaN  ...   \n",
       "93431         NaN         NaN         NaN         NaN         NaN  ...   \n",
       "93433         NaN         NaN         NaN         NaN         NaN  ...   \n",
       "93436         NaN         NaN         NaN         NaN         NaN  ...   \n",
       "\n",
       "       2019-12-17  2019-12-18  2019-12-19  2019-12-20  2019-12-23  2019-12-24  \\\n",
       "10026        20.0         0.0         5.0         9.0        18.0         8.0   \n",
       "10032         0.0         0.0         5.0         6.0         6.0         2.0   \n",
       "10051        18.0         4.0        22.0         2.0        11.0         0.0   \n",
       "10065        18.0         2.0        11.0         3.0         2.0        22.0   \n",
       "10104        18.0         4.0         5.0         5.0        18.0         8.0   \n",
       "...           ...         ...         ...         ...         ...         ...   \n",
       "93428         NaN         NaN         NaN         NaN         NaN         NaN   \n",
       "93429         0.0         7.0         5.0         6.0        13.0         8.0   \n",
       "93431         NaN         NaN         NaN         NaN         NaN         NaN   \n",
       "93433         NaN         NaN         NaN         NaN         NaN         NaN   \n",
       "93436        20.0         9.0         4.0        11.0         7.0         8.0   \n",
       "\n",
       "       2019-12-26  2019-12-27  2019-12-30  2019-12-31  \n",
       "10026         1.0        21.0        13.0         9.0  \n",
       "10032         3.0        18.0        16.0         3.0  \n",
       "10051         6.0        21.0        13.0         3.0  \n",
       "10065         1.0        18.0         8.0         3.0  \n",
       "10104         1.0        18.0        10.0         9.0  \n",
       "...           ...         ...         ...         ...  \n",
       "93428         NaN         NaN         NaN         NaN  \n",
       "93429         8.0        18.0         8.0         3.0  \n",
       "93431         NaN         NaN         NaN         NaN  \n",
       "93433         NaN         NaN         NaN         NaN  \n",
       "93436         8.0         7.0        16.0         3.0  \n",
       "\n",
       "[5721 rows x 2501 columns]"
      ]
     },
     "execution_count": 35,
     "metadata": {},
     "output_type": "execute_result"
    }
   ],
   "source": [
    "info_labels"
   ]
  },
  {
   "cell_type": "markdown",
   "metadata": {},
   "source": [
    "## Dendogram "
   ]
  },
  {
   "cell_type": "code",
   "execution_count": 32,
   "metadata": {},
   "outputs": [],
   "source": [
    "# load some loadings\n",
    "f = filenames[0]\n",
    "t = dates_str[0]\n",
    "loadings = read_parquet(f)\n",
    "loadings.dropna(how='all', axis=1, inplace=True)\n",
    "loadings_t = loadings.T"
   ]
  },
  {
   "cell_type": "code",
   "execution_count": 33,
   "metadata": {},
   "outputs": [],
   "source": [
    "ac = AgglomerativeClustering(n_clusters=None, distance_threshold=0)\n",
    "ac = ac.fit(loadings_t)"
   ]
  },
  {
   "cell_type": "code",
   "execution_count": 34,
   "metadata": {},
   "outputs": [
    {
     "data": {
      "image/png": "[encoded data removed]",
      "text/plain": [
       "<Figure size 1008x432 with 1 Axes>"
      ]
     },
     "metadata": {
      "needs_background": "light"
     },
     "output_type": "display_data"
    }
   ],
   "source": [
    "fig, ax = plt.subplots(figsize=(14, 6))\n",
    "plot_dendrogram(ac, truncate_mode='level', p=4, ax=ax)"
   ]
  },
  {
   "cell_type": "code",
   "execution_count": null,
   "metadata": {},
   "outputs": [],
   "source": []
  }
 ],
 "metadata": {
  "kernelspec": {
   "display_name": "Python 3",
   "language": "python",
   "name": "python3"
  },
  "language_info": {
   "codemirror_mode": {
    "name": "ipython",
    "version": 3
   },
   "file_extension": ".py",
   "mimetype": "text/x-python",
   "name": "python",
   "nbconvert_exporter": "python",
   "pygments_lexer": "ipython3",
   "version": "3.8.5"
  }
 },
 "nbformat": 4,
 "nbformat_minor": 4
}
